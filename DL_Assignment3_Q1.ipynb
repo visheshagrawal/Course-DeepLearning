{
  "nbformat": 4,
  "nbformat_minor": 0,
  "metadata": {
    "colab": {
      "name": "DL_Assignment3_Q1.ipynb",
      "provenance": [],
      "collapsed_sections": [],
      "include_colab_link": true
    },
    "kernelspec": {
      "name": "python3",
      "display_name": "Python 3"
    },
    "language_info": {
      "name": "python"
    },
    "accelerator": "GPU"
  },
  "cells": [
    {
      "cell_type": "markdown",
      "metadata": {
        "id": "view-in-github",
        "colab_type": "text"
      },
      "source": [
        "<a href=\"https://colab.research.google.com/github/visheshagrawal/Course-DeepLearning/blob/main/DL_Assignment3_Q1.ipynb\" target=\"_parent\"><img src=\"https://colab.research.google.com/assets/colab-badge.svg\" alt=\"Open In Colab\"/></a>"
      ]
    },
    {
      "cell_type": "markdown",
      "metadata": {
        "id": "HXStuXPz81YF"
      },
      "source": [
        "Importing Libraries"
      ]
    },
    {
      "cell_type": "code",
      "metadata": {
        "id": "s8EcxusE7j2z"
      },
      "source": [
        "import numpy as np\n",
        "import cv2\n",
        "from datetime import datetime \n",
        "import torch\n",
        "import torch.nn as nn\n",
        "import torch.nn.functional as F\n",
        "from torch.utils.data import TensorDataset,DataLoader\n",
        "\n",
        "import torchvision\n",
        "from torchvision import datasets, transforms\n",
        "\n",
        "import matplotlib.pyplot as plt\n",
        "from torchsummary import summary\n",
        "import copy\n",
        "# check device\n",
        "DEVICE = 'cuda' if torch.cuda.is_available() else 'cpu'\n",
        "# DEVICE='cpu'"
      ],
      "execution_count": null,
      "outputs": []
    },
    {
      "cell_type": "code",
      "metadata": {
        "colab": {
          "base_uri": "https://localhost:8080/"
        },
        "id": "D3zebahRC_hJ",
        "outputId": "b486e1dc-6b43-417a-fe7c-76a043dc4dd8"
      },
      "source": [
        "!pip install torchsummary"
      ],
      "execution_count": null,
      "outputs": [
        {
          "output_type": "stream",
          "text": [
            "Requirement already satisfied: torchsummary in /usr/local/lib/python3.7/dist-packages (1.5.1)\n"
          ],
          "name": "stdout"
        }
      ]
    },
    {
      "cell_type": "markdown",
      "metadata": {
        "id": "oSI9Qp7F8a0r"
      },
      "source": [
        "DATA PREPARATION"
      ]
    },
    {
      "cell_type": "code",
      "metadata": {
        "id": "3c6zYX3lqPlA",
        "colab": {
          "base_uri": "https://localhost:8080/"
        },
        "outputId": "064b42e7-5aa8-4d9b-e448-ac613940ff47"
      },
      "source": [
        "import pickle\n",
        "#file = open('/content/drive/My Drive/DL_Assignment_3_4/Assignment_3/Question_1/train.pkl', 'rb')\n",
        "# file = open('/content/drive/My Drive/DeepLearning/A3_1/train.pkl', 'rb')\n",
        "file = open('train.pkl', 'rb')\n",
        "data = pickle.load(file)\n",
        "file.close()\n",
        "print('Showing the pickled data:')\n",
        "cnt = 0\n",
        "for item in data:\n",
        "    print('The data ', cnt, ' is : ', item)\n",
        "    cnt += 1"
      ],
      "execution_count": null,
      "outputs": [
        {
          "output_type": "stream",
          "text": [
            "Showing the pickled data:\n",
            "The data  0  is :  names\n",
            "The data  1  is :  images\n",
            "The data  2  is :  labels\n"
          ],
          "name": "stdout"
        }
      ]
    },
    {
      "cell_type": "code",
      "metadata": {
        "colab": {
          "base_uri": "https://localhost:8080/"
        },
        "id": "BO6PdvpTUFGh",
        "outputId": "c004088d-0c9a-4032-aaae-a8cf4cff3094"
      },
      "source": [
        "file = open('test.pkl', 'rb')\n",
        "data = pickle.load(file)\n",
        "file.close()\n",
        "print('Showing the pickled data:')\n",
        "cnt = 0\n",
        "for item in data:\n",
        "    print('The data ', cnt, ' is : ', item)\n",
        "    cnt += 1"
      ],
      "execution_count": null,
      "outputs": [
        {
          "output_type": "stream",
          "text": [
            "Showing the pickled data:\n",
            "The data  0  is :  names\n",
            "The data  1  is :  images\n",
            "The data  2  is :  labels\n"
          ],
          "name": "stdout"
        }
      ]
    },
    {
      "cell_type": "code",
      "metadata": {
        "colab": {
          "base_uri": "https://localhost:8080/"
        },
        "id": "gKxbsASHPgUT",
        "outputId": "5e9e10ae-59a5-4d2e-ddab-fbb432324934"
      },
      "source": [
        "from google.colab import drive\n",
        "drive.mount('/content/drive')"
      ],
      "execution_count": null,
      "outputs": [
        {
          "output_type": "stream",
          "text": [
            "Mounted at /content/drive\n"
          ],
          "name": "stdout"
        }
      ]
    },
    {
      "cell_type": "code",
      "metadata": {
        "id": "pj8F9hmLPn8K"
      },
      "source": [
        "import os\n",
        "os.chdir(\"/content/drive/MyDrive/DeepLearning/A3_1\")"
      ],
      "execution_count": null,
      "outputs": []
    },
    {
      "cell_type": "code",
      "metadata": {
        "id": "PbGGZOm03hcM"
      },
      "source": [
        "image_np_array=[]\n",
        "for item in data[\"images\"]:\n",
        "  # img=np.array(item)\n",
        "  t1=transforms.ToTensor()\n",
        "  img=t1(item)\n",
        "  # img = np.moveaxis(img, -1, 0)\n",
        "  image_np_array.append(img)\n",
        "# image_np_array[0].shape"
      ],
      "execution_count": null,
      "outputs": []
    },
    {
      "cell_type": "code",
      "metadata": {
        "id": "t3yIAru3UI_A"
      },
      "source": [
        "test_image_np_array=[]\n",
        "for item in data[\"images\"]:\n",
        "  t1=transforms.ToTensor()\n",
        "  img=t1(item)\n",
        "  test_image_np_array.append(img)\n",
        "\n",
        "test_label_np_array=[]\n",
        "for item in data[\"labels\"]:\n",
        "  label=np.array(item)\n",
        "  test_label_np_array.append(label)\n",
        "\n",
        "test_label_np_array=np.array(test_label_np_array)\n",
        "\n",
        "test_tensor_x=torch.stack(test_image_np_array)\n",
        "test_tensor_y = torch.Tensor(test_label_np_array)\n",
        "\n",
        "my_test_dataset = TensorDataset(test_tensor_x,test_tensor_y) \n",
        "train_size = int(0.85 * len(my_test_dataset))\n",
        "test_size = int(len(my_test_dataset) - train_size)\n",
        "\n",
        "# train_dataset, test_dataset = torch.utils.data.random_split(my_dataset, [train_size, test_size])\n",
        "\n",
        "test_loader = DataLoader(my_test_dataset,batch_size=64,shuffle=True)\n",
        "\n",
        "\n",
        "\n"
      ],
      "execution_count": null,
      "outputs": []
    },
    {
      "cell_type": "code",
      "metadata": {
        "id": "oXLGu8wLUSnP"
      },
      "source": [
        ""
      ],
      "execution_count": null,
      "outputs": []
    },
    {
      "cell_type": "code",
      "metadata": {
        "colab": {
          "base_uri": "https://localhost:8080/"
        },
        "id": "j9bCOnQOWdEy",
        "outputId": "1610c746-eb01-4c3f-cf39-f0fcff4a6ce2"
      },
      "source": [
        "image_np_array[0]\n",
        "\n",
        "torch.stack(image_np_array).shape"
      ],
      "execution_count": null,
      "outputs": [
        {
          "output_type": "execute_result",
          "data": {
            "text/plain": [
              "torch.Size([5000, 3, 32, 32])"
            ]
          },
          "metadata": {
            "tags": []
          },
          "execution_count": 8
        }
      ]
    },
    {
      "cell_type": "code",
      "metadata": {
        "id": "yYbOXSb563Gt"
      },
      "source": [
        "label_np_array=[]\n",
        "for item in data[\"labels\"]:\n",
        "  label=np.array(item)\n",
        "  label_np_array.append(label)"
      ],
      "execution_count": null,
      "outputs": []
    },
    {
      "cell_type": "code",
      "metadata": {
        "id": "wtt_X3JC5cV7"
      },
      "source": [
        "# image_np_array=np.array(image_np_array)\n",
        "label_np_array=np.array(label_np_array)"
      ],
      "execution_count": null,
      "outputs": []
    },
    {
      "cell_type": "code",
      "metadata": {
        "colab": {
          "base_uri": "https://localhost:8080/"
        },
        "id": "HKaX-FYxW6Gv",
        "outputId": "2cd5f7d3-8c1a-42a2-962b-c7f50a481474"
      },
      "source": [
        "np.bincount(label_np_array)"
      ],
      "execution_count": null,
      "outputs": [
        {
          "output_type": "execute_result",
          "data": {
            "text/plain": [
              "array([500, 500, 500, 500, 500, 500, 500, 500, 500, 500])"
            ]
          },
          "metadata": {
            "tags": []
          },
          "execution_count": 11
        }
      ]
    },
    {
      "cell_type": "code",
      "metadata": {
        "id": "TVuqMEh66bti"
      },
      "source": [
        "# tensor_x = torch.Tensor(image_np_array) # transform to torch tensor\n",
        "\n",
        "tensor_x=torch.stack(image_np_array)\n",
        "tensor_y = torch.Tensor(label_np_array)\n",
        "\n",
        "my_dataset = TensorDataset(tensor_x,tensor_y) # create your datset\n",
        "train_size = int(0.85 * len(my_dataset))\n",
        "# val_size = int(0.5*(len(my_dataset) - train_size)\n",
        "test_size = int(len(my_dataset) - train_size)\n",
        "# val_size = len(my_dataset) - train_size - test_size\n",
        "\n",
        "train_dataset, test_dataset = torch.utils.data.random_split(my_dataset, [train_size, test_size])\n",
        "# val_dataset, test_dataset = torch.utils.data.random_split(test_dataset, [val_size, test_size])"
      ],
      "execution_count": null,
      "outputs": []
    },
    {
      "cell_type": "code",
      "metadata": {
        "colab": {
          "base_uri": "https://localhost:8080/"
        },
        "id": "4qd_v52Fe2Xa",
        "outputId": "6cb00920-61dc-46d5-d4a2-c4629093e0c4"
      },
      "source": [
        "train_dataset[0][1]"
      ],
      "execution_count": null,
      "outputs": [
        {
          "output_type": "execute_result",
          "data": {
            "text/plain": [
              "tensor(4.)"
            ]
          },
          "metadata": {
            "tags": []
          },
          "execution_count": 13
        }
      ]
    },
    {
      "cell_type": "code",
      "metadata": {
        "id": "GlekfbgfVFMJ"
      },
      "source": [
        "# create your dataloader\n",
        "train_loader = DataLoader(train_dataset,batch_size=64,shuffle=True)\n",
        "valid_loader = DataLoader(test_dataset,batch_size=64,shuffle=True)"
      ],
      "execution_count": null,
      "outputs": []
    },
    {
      "cell_type": "code",
      "metadata": {
        "id": "jRnSGntjJZPJ"
      },
      "source": [
        "torch.save(train_loader, 'trainloader.pth')\n",
        "torch.save(valid_loader, 'validloader.pth')"
      ],
      "execution_count": null,
      "outputs": []
    },
    {
      "cell_type": "code",
      "metadata": {
        "id": "ab6t3TxkJnm_"
      },
      "source": [
        "new_train_loader=torch.load('trainloader.pth')\n",
        "new_valid_loader=torch.load('validloader.pth')"
      ],
      "execution_count": null,
      "outputs": []
    },
    {
      "cell_type": "code",
      "metadata": {
        "colab": {
          "base_uri": "https://localhost:8080/",
          "height": 162
        },
        "id": "lKrpjPh2Jy3K",
        "outputId": "34a2efcb-26cc-44f0-d03c-fdd8a1f59ab9"
      },
      "source": [
        "new_train_loader.shape"
      ],
      "execution_count": null,
      "outputs": [
        {
          "output_type": "error",
          "ename": "AttributeError",
          "evalue": "ignored",
          "traceback": [
            "\u001b[0;31m---------------------------------------------------------------------------\u001b[0m",
            "\u001b[0;31mAttributeError\u001b[0m                            Traceback (most recent call last)",
            "\u001b[0;32m<ipython-input-164-482a3294d0c9>\u001b[0m in \u001b[0;36m<module>\u001b[0;34m()\u001b[0m\n\u001b[0;32m----> 1\u001b[0;31m \u001b[0mnew_train_loader\u001b[0m\u001b[0;34m.\u001b[0m\u001b[0mshape\u001b[0m\u001b[0;34m\u001b[0m\u001b[0;34m\u001b[0m\u001b[0m\n\u001b[0m",
            "\u001b[0;31mAttributeError\u001b[0m: 'DataLoader' object has no attribute 'shape'"
          ]
        }
      ]
    },
    {
      "cell_type": "code",
      "metadata": {
        "id": "hyau1m_4-_Hz",
        "colab": {
          "base_uri": "https://localhost:8080/"
        },
        "outputId": "3eecc4a4-c581-48d0-ab85-30977bb0c68e"
      },
      "source": [
        "for item in iter(train_loader):\n",
        "  print(item[0])\n",
        "  print(item[1])\n",
        "  break"
      ],
      "execution_count": null,
      "outputs": [
        {
          "output_type": "stream",
          "text": [
            "tensor([[[[0.4196, 0.3333, 0.3725,  ..., 0.3137, 0.3020, 0.2941],\n",
            "          [0.4353, 0.3373, 0.4745,  ..., 0.3020, 0.2902, 0.3020],\n",
            "          [0.4588, 0.3451, 0.4157,  ..., 0.3294, 0.2941, 0.3098],\n",
            "          ...,\n",
            "          [0.4196, 0.4118, 0.4431,  ..., 0.4314, 0.4392, 0.4706],\n",
            "          [0.4235, 0.4196, 0.4392,  ..., 0.4118, 0.4196, 0.4196],\n",
            "          [0.4196, 0.4235, 0.4667,  ..., 0.4235, 0.4314, 0.4235]],\n",
            "\n",
            "         [[0.3569, 0.2941, 0.3451,  ..., 0.3176, 0.3059, 0.2980],\n",
            "          [0.3725, 0.3020, 0.4471,  ..., 0.2941, 0.2863, 0.2980],\n",
            "          [0.3961, 0.3098, 0.3922,  ..., 0.3176, 0.2824, 0.2980],\n",
            "          ...,\n",
            "          [0.3961, 0.3882, 0.4196,  ..., 0.4196, 0.4275, 0.4588],\n",
            "          [0.3961, 0.3922, 0.4118,  ..., 0.4000, 0.4118, 0.4078],\n",
            "          [0.3804, 0.3843, 0.4314,  ..., 0.3922, 0.4078, 0.3961]],\n",
            "\n",
            "         [[0.1843, 0.1176, 0.1686,  ..., 0.1255, 0.1137, 0.1059],\n",
            "          [0.2039, 0.1255, 0.2667,  ..., 0.1059, 0.0980, 0.1059],\n",
            "          [0.2235, 0.1294, 0.2078,  ..., 0.1333, 0.0980, 0.1098],\n",
            "          ...,\n",
            "          [0.1647, 0.1569, 0.1882,  ..., 0.2039, 0.1882, 0.2275],\n",
            "          [0.1490, 0.1451, 0.1647,  ..., 0.2314, 0.2235, 0.2275],\n",
            "          [0.1412, 0.1451, 0.1922,  ..., 0.2431, 0.2314, 0.2275]]],\n",
            "\n",
            "\n",
            "        [[[0.5059, 0.4824, 0.4706,  ..., 0.3765, 0.3765, 0.3725],\n",
            "          [0.4863, 0.4902, 0.4627,  ..., 0.3804, 0.3765, 0.3725],\n",
            "          [0.4863, 0.4745, 0.5020,  ..., 0.3843, 0.3804, 0.3765],\n",
            "          ...,\n",
            "          [0.6863, 0.5922, 0.6549,  ..., 0.5294, 0.5569, 0.5647],\n",
            "          [0.6588, 0.6471, 0.6627,  ..., 0.5529, 0.5725, 0.5451],\n",
            "          [0.6431, 0.6275, 0.6157,  ..., 0.5412, 0.5333, 0.5255]],\n",
            "\n",
            "         [[0.5020, 0.4902, 0.5255,  ..., 0.5098, 0.5098, 0.5059],\n",
            "          [0.4863, 0.4941, 0.4824,  ..., 0.5137, 0.5098, 0.5059],\n",
            "          [0.4980, 0.4863, 0.5020,  ..., 0.5176, 0.5137, 0.5098],\n",
            "          ...,\n",
            "          [0.5961, 0.5255, 0.5843,  ..., 0.5608, 0.5843, 0.5882],\n",
            "          [0.5529, 0.5765, 0.5882,  ..., 0.5647, 0.5686, 0.5647],\n",
            "          [0.5176, 0.5216, 0.5216,  ..., 0.5725, 0.5725, 0.5647]],\n",
            "\n",
            "         [[0.4275, 0.4078, 0.6824,  ..., 0.8941, 0.8941, 0.8902],\n",
            "          [0.4863, 0.4588, 0.4745,  ..., 0.8941, 0.8902, 0.8863],\n",
            "          [0.5451, 0.4196, 0.3647,  ..., 0.8980, 0.8941, 0.8902],\n",
            "          ...,\n",
            "          [0.5529, 0.5020, 0.5176,  ..., 0.2627, 0.2863, 0.2824],\n",
            "          [0.4588, 0.5020, 0.5059,  ..., 0.2667, 0.2784, 0.2745],\n",
            "          [0.2549, 0.2667, 0.2745,  ..., 0.2588, 0.2706, 0.2667]]],\n",
            "\n",
            "\n",
            "        [[[0.2000, 0.1922, 0.1882,  ..., 0.2039, 0.2039, 0.2078],\n",
            "          [0.2078, 0.2039, 0.2078,  ..., 0.2118, 0.2196, 0.2235],\n",
            "          [0.2431, 0.2196, 0.2235,  ..., 0.2314, 0.2431, 0.2510],\n",
            "          ...,\n",
            "          [0.3843, 0.3686, 0.3216,  ..., 0.4039, 0.4039, 0.4588],\n",
            "          [0.5216, 0.3882, 0.5961,  ..., 0.3843, 0.2627, 0.3569],\n",
            "          [0.3686, 0.3294, 0.5725,  ..., 0.4706, 0.2863, 0.3020]],\n",
            "\n",
            "         [[0.3059, 0.2941, 0.2902,  ..., 0.2902, 0.2902, 0.2980],\n",
            "          [0.3255, 0.3137, 0.3098,  ..., 0.3098, 0.3137, 0.3216],\n",
            "          [0.3451, 0.3412, 0.3333,  ..., 0.3373, 0.3490, 0.3569],\n",
            "          ...,\n",
            "          [0.2941, 0.2706, 0.2275,  ..., 0.4039, 0.4039, 0.4314],\n",
            "          [0.3843, 0.2745, 0.4196,  ..., 0.3882, 0.2745, 0.3569],\n",
            "          [0.2824, 0.2549, 0.4157,  ..., 0.4353, 0.2784, 0.3294]],\n",
            "\n",
            "         [[0.6000, 0.5922, 0.5882,  ..., 0.5922, 0.5922, 0.6000],\n",
            "          [0.6039, 0.5961, 0.6039,  ..., 0.6039, 0.6118, 0.6118],\n",
            "          [0.6078, 0.6196, 0.6118,  ..., 0.6118, 0.6275, 0.6235],\n",
            "          ...,\n",
            "          [0.2706, 0.2588, 0.2196,  ..., 0.4235, 0.4235, 0.4353],\n",
            "          [0.3686, 0.2549, 0.3961,  ..., 0.4039, 0.3176, 0.3647],\n",
            "          [0.2941, 0.2627, 0.3961,  ..., 0.4275, 0.3020, 0.2824]]],\n",
            "\n",
            "\n",
            "        ...,\n",
            "\n",
            "\n",
            "        [[[0.1804, 0.1843, 0.1961,  ..., 0.1647, 0.1490, 0.1647],\n",
            "          [0.2039, 0.1961, 0.1882,  ..., 0.1725, 0.1490, 0.1333],\n",
            "          [0.2118, 0.2078, 0.1765,  ..., 0.1922, 0.1961, 0.1843],\n",
            "          ...,\n",
            "          [0.0941, 0.0784, 0.1059,  ..., 0.3686, 0.3059, 0.2039],\n",
            "          [0.0980, 0.0784, 0.0902,  ..., 0.2510, 0.2863, 0.2157],\n",
            "          [0.0902, 0.0824, 0.1137,  ..., 0.2353, 0.2353, 0.1608]],\n",
            "\n",
            "         [[0.3216, 0.2549, 0.2157,  ..., 0.2627, 0.2431, 0.2588],\n",
            "          [0.3255, 0.2706, 0.2353,  ..., 0.2706, 0.2431, 0.2235],\n",
            "          [0.3176, 0.2863, 0.2510,  ..., 0.2863, 0.2902, 0.2784],\n",
            "          ...,\n",
            "          [0.2039, 0.2196, 0.2784,  ..., 0.3882, 0.3451, 0.2902],\n",
            "          [0.1765, 0.1922, 0.2431,  ..., 0.3059, 0.3569, 0.3137],\n",
            "          [0.1529, 0.1765, 0.2471,  ..., 0.3216, 0.3255, 0.2627]],\n",
            "\n",
            "         [[0.1333, 0.1255, 0.1176,  ..., 0.1412, 0.1333, 0.1608],\n",
            "          [0.1608, 0.1412, 0.1137,  ..., 0.1608, 0.1412, 0.1294],\n",
            "          [0.1804, 0.1569, 0.1137,  ..., 0.1843, 0.1922, 0.1765],\n",
            "          ...,\n",
            "          [0.0824, 0.0471, 0.0510,  ..., 0.2667, 0.2510, 0.1804],\n",
            "          [0.0863, 0.0510, 0.0392,  ..., 0.1686, 0.2549, 0.2078],\n",
            "          [0.0824, 0.0549, 0.0667,  ..., 0.1647, 0.2118, 0.1569]]],\n",
            "\n",
            "\n",
            "        [[[0.0078, 0.0118, 0.0431,  ..., 0.0078, 0.0078, 0.0078],\n",
            "          [0.0235, 0.0471, 0.0275,  ..., 0.0118, 0.0118, 0.0118],\n",
            "          [0.0392, 0.0627, 0.0471,  ..., 0.0078, 0.0039, 0.0039],\n",
            "          ...,\n",
            "          [0.0196, 0.0118, 0.0118,  ..., 0.0118, 0.0157, 0.0235],\n",
            "          [0.0392, 0.0314, 0.0196,  ..., 0.0039, 0.0039, 0.0078],\n",
            "          [0.0314, 0.0510, 0.0471,  ..., 0.0039, 0.0039, 0.0078]],\n",
            "\n",
            "         [[0.2863, 0.2863, 0.2588,  ..., 0.2392, 0.2314, 0.2235],\n",
            "          [0.2980, 0.2824, 0.1804,  ..., 0.2510, 0.2392, 0.2353],\n",
            "          [0.3098, 0.2745, 0.1608,  ..., 0.2549, 0.2392, 0.2392],\n",
            "          ...,\n",
            "          [0.3255, 0.3176, 0.3098,  ..., 0.2392, 0.2196, 0.1961],\n",
            "          [0.3098, 0.3098, 0.3020,  ..., 0.2353, 0.2196, 0.2078],\n",
            "          [0.1725, 0.2078, 0.2314,  ..., 0.2314, 0.2196, 0.2157]],\n",
            "\n",
            "         [[0.4588, 0.4510, 0.4078,  ..., 0.3882, 0.3843, 0.3804],\n",
            "          [0.4627, 0.4275, 0.3020,  ..., 0.3961, 0.3882, 0.3843],\n",
            "          [0.4706, 0.4039, 0.2588,  ..., 0.3961, 0.3843, 0.3843],\n",
            "          ...,\n",
            "          [0.5020, 0.4902, 0.4784,  ..., 0.3882, 0.3725, 0.3412],\n",
            "          [0.4863, 0.4863, 0.4824,  ..., 0.3765, 0.3569, 0.3451],\n",
            "          [0.3059, 0.3451, 0.3725,  ..., 0.3765, 0.3569, 0.3529]]],\n",
            "\n",
            "\n",
            "        [[[0.5412, 0.5294, 0.5255,  ..., 0.5569, 0.5608, 0.5569],\n",
            "          [0.5490, 0.5451, 0.5647,  ..., 0.5804, 0.5765, 0.5725],\n",
            "          [0.5412, 0.5255, 0.5255,  ..., 0.5843, 0.5725, 0.5647],\n",
            "          ...,\n",
            "          [0.4118, 0.2627, 0.1176,  ..., 0.4431, 0.4471, 0.4510],\n",
            "          [0.4078, 0.3725, 0.3176,  ..., 0.4588, 0.4588, 0.4627],\n",
            "          [0.4196, 0.4078, 0.4157,  ..., 0.4549, 0.4588, 0.4627]],\n",
            "\n",
            "         [[0.5765, 0.5725, 0.5686,  ..., 0.5725, 0.5765, 0.5686],\n",
            "          [0.5804, 0.5804, 0.5882,  ..., 0.5882, 0.5804, 0.5765],\n",
            "          [0.5765, 0.5647, 0.5608,  ..., 0.5804, 0.5765, 0.5725],\n",
            "          ...,\n",
            "          [0.4353, 0.2745, 0.1255,  ..., 0.4706, 0.4784, 0.4784],\n",
            "          [0.4314, 0.3961, 0.3412,  ..., 0.4863, 0.4902, 0.4941],\n",
            "          [0.4471, 0.4353, 0.4431,  ..., 0.4863, 0.4902, 0.4941]],\n",
            "\n",
            "         [[0.2824, 0.2784, 0.2784,  ..., 0.3137, 0.3137, 0.3098],\n",
            "          [0.2980, 0.2941, 0.3059,  ..., 0.3294, 0.3255, 0.3176],\n",
            "          [0.3098, 0.2980, 0.2902,  ..., 0.3333, 0.3255, 0.3216],\n",
            "          ...,\n",
            "          [0.4078, 0.2549, 0.1137,  ..., 0.4275, 0.4314, 0.4392],\n",
            "          [0.4039, 0.3647, 0.3176,  ..., 0.4392, 0.4392, 0.4510],\n",
            "          [0.4157, 0.4039, 0.4118,  ..., 0.4392, 0.4471, 0.4510]]]])\n",
            "tensor([7., 4., 5., 0., 5., 5., 3., 6., 1., 6., 7., 7., 3., 3., 6., 0., 4., 5.,\n",
            "        2., 3., 4., 7., 9., 9., 6., 3., 3., 6., 6., 2., 4., 7., 4., 7., 4., 5.,\n",
            "        1., 1., 7., 7., 4., 4., 0., 5., 4., 1., 6., 8., 7., 0., 4., 7., 6., 0.,\n",
            "        3., 2., 2., 1., 0., 5., 1., 1., 0., 7.])\n"
          ],
          "name": "stdout"
        }
      ]
    },
    {
      "cell_type": "markdown",
      "metadata": {
        "id": "yXRL-i448-qK"
      },
      "source": [
        "TRAINING PART"
      ]
    },
    {
      "cell_type": "code",
      "metadata": {
        "id": "-HXMNte_7yHV"
      },
      "source": [
        "RANDOM_SEED = 42\n",
        "LEARNING_RATE = 1e-4\n",
        "BATCH_SIZE = 32\n",
        "N_EPOCHS = 50\n",
        "\n",
        "IMG_SIZE = 32\n",
        "N_CLASSES = 10"
      ],
      "execution_count": null,
      "outputs": []
    },
    {
      "cell_type": "code",
      "metadata": {
        "id": "MsvprR2j74HC"
      },
      "source": [
        "def train(train_loader, model, criterion, optimizer, device):\n",
        "    '''\n",
        "    Function for the training step of the training loop\n",
        "    '''\n",
        "\n",
        "    model.train()\n",
        "    running_loss = 0\n",
        "    \n",
        "    for X, y_true in train_loader:\n",
        "\n",
        "        optimizer.zero_grad()\n",
        "        \n",
        "        X = X.to(device)\n",
        "        #y_true=torch.LongTensor(y_true)\n",
        "        y_true = y_true.to(device)\n",
        "        y_true=y_true.long()\n",
        "    \n",
        "        # Forward pass\n",
        "        y_hat, _ = model(X) \n",
        "        #y_hat=torch.LongTensor(y_hat)\n",
        "        # y_hat = y_hat.type(torch.LongTensor)\n",
        "        \n",
        "        loss = criterion(y_hat, y_true) \n",
        "        # l1 = 0\n",
        "        # lambda_l1=0.001\n",
        "        # for p in model.parameters():\n",
        "        #   l1 = l1 + p.abs().sum()\n",
        "        # loss = loss + lambda_l1 * l1\n",
        "        # # loss.backward()\n",
        "        # optimizer.step()\n",
        "        running_loss += loss.item() * X.size(0)\n",
        "\n",
        "        # Backward pass\n",
        "        loss.backward()\n",
        "        optimizer.step()\n",
        "        \n",
        "    epoch_loss = running_loss / len(train_loader.dataset)\n",
        "    return model, optimizer, epoch_loss"
      ],
      "execution_count": null,
      "outputs": []
    },
    {
      "cell_type": "code",
      "metadata": {
        "id": "RRCgEF_jNbvx"
      },
      "source": [
        "# loss=0\n",
        "# for item in iter(train_loader):\n",
        "#   x_train=item[0]\n",
        "#   y_true=item[1]\n",
        "#   #y_true=torch.Tensor(y_true)\n",
        "#   y_true=y_true.long()\n",
        "#   y_pred=model(x_train)\n",
        "#   print(type(y_true))\n",
        "#   print(type(y_pred[0]))\n",
        "#   loss+=criterion(y_pred[0],y_true)"
      ],
      "execution_count": null,
      "outputs": []
    },
    {
      "cell_type": "code",
      "metadata": {
        "id": "-iZPbGC377hI"
      },
      "source": [
        "def validate(valid_loader, model, criterion, device):\n",
        "    '''\n",
        "    Function for the validation step of the training loop\n",
        "    '''\n",
        "   \n",
        "    model.eval()\n",
        "    running_loss = 0\n",
        "    \n",
        "    for X, y_true in valid_loader:\n",
        "    \n",
        "        X = X.to(device)\n",
        "        #y_true=torch.LongTensor(y_true)\n",
        "        \n",
        "        y_true = y_true.to(device)\n",
        "        y_true=y_true.long()\n",
        "\n",
        "\n",
        "        # Forward pass and record loss\n",
        "        y_hat, _ = model(X) \n",
        "        #y_hat = y_hat.type(torch.LongTensor)\n",
        "        # y_hat=torch.LongTensor(y_hat)\n",
        "        loss = criterion(y_hat, y_true) \n",
        "        running_loss += loss.item() * X.size(0)\n",
        "\n",
        "    epoch_loss = running_loss / len(valid_loader.dataset)\n",
        "        \n",
        "    return model, epoch_loss"
      ],
      "execution_count": null,
      "outputs": []
    },
    {
      "cell_type": "code",
      "metadata": {
        "id": "I0JaY4A579-L"
      },
      "source": [
        "def training_loop(model, criterion, optimizer, train_loader, valid_loader, epochs, device, print_every=1):\n",
        "    '''\n",
        "    Function defining the entire training loop\n",
        "    '''\n",
        "    \n",
        "    # set objects for storing metrics\n",
        "    best_loss = 1e10\n",
        "    train_losses = []\n",
        "    valid_losses = []\n",
        " \n",
        "    # Train model\n",
        "    for epoch in range(0, epochs):\n",
        "\n",
        "        # training\n",
        "        model, optimizer, train_loss = train(train_loader, model, criterion, optimizer, device)\n",
        "        train_losses.append(train_loss)\n",
        "\n",
        "        # validation\n",
        "        with torch.no_grad():\n",
        "            model, valid_loss = validate(valid_loader, model, criterion, device)\n",
        "            valid_losses.append(valid_loss)\n",
        "\n",
        "        if epoch % print_every == (print_every - 1):\n",
        "            \n",
        "            train_acc = get_accuracy(model, train_loader, device=device)\n",
        "            valid_acc = get_accuracy(model, valid_loader, device=device)\n",
        "                \n",
        "            print(f'{datetime.now().time().replace(microsecond=0)} --- '\n",
        "                  f'Epoch: {epoch}\\t'\n",
        "                  f'Train loss: {train_loss:.4f}\\t'\n",
        "                  f'Valid loss: {valid_loss:.4f}\\t'\n",
        "                  f'Train accuracy: {100 * train_acc:.2f}\\t'\n",
        "                  f'Valid accuracy: {100 * valid_acc:.2f}')\n",
        "\n",
        "    plot_losses(train_losses, valid_losses)\n",
        "    \n",
        "    return model, optimizer, (train_losses, valid_losses)"
      ],
      "execution_count": null,
      "outputs": []
    },
    {
      "cell_type": "code",
      "metadata": {
        "id": "Cl5QG-hWP9U8"
      },
      "source": [
        "import pickle\n"
      ],
      "execution_count": null,
      "outputs": []
    },
    {
      "cell_type": "code",
      "metadata": {
        "id": "ylSYPeB7h-oa"
      },
      "source": [
        "def get_activation(name):\n",
        "    def hook(model, input, output):\n",
        "        activation[name] = output.detach()\n",
        "    return hook\n",
        "activation={}\n",
        "\n",
        "new_model=copy.deepcopy(model)\n",
        "kernels_list=[new_model.block_1[0],new_model.block_1[3],new_model.block_2[0],new_model.block_2[3],new_model.block_3[0],new_model.block_3[3]]\n",
        "name_list=['conv11','conv12','conv21','conv22','conv31','conv32']\n",
        "\n",
        "fig,axis=plt.subplots(1,6,figsize=(15,15))\n",
        "\n",
        "for i in range(len(kernels_list)):\n",
        "  item=kernels_list[i]\n",
        "  # new_model=copy.deepcopy(model) \n",
        "  # new_model.block_1[0].register_forward_hook(get_activation('ext_conv1'))\n",
        "  name=name_list[i]\n",
        "  item.register_forward_hook(get_activation(name))\n",
        "\n",
        "\n",
        "  for j in iter(train_loader):\n",
        "    out=new_model(j[0])\n",
        "    # print(out)\n",
        "    act = activation[name]\n",
        "    # print(act.shape)\n",
        "    break \n",
        "\n",
        "  # act=act[0]\n",
        "  act=torch.mean(act[0],axis=0)\n",
        "  axis[i].imshow(act,cmap=\"gray\")\n",
        "\n",
        "  # num_plot = 16\n",
        "  # fig, axarr = plt.subplots(1,min(act.size(0), num_plot),figsize=(15,15))\n",
        "  # for idx in range(min(act.size(0), num_plot)):\n",
        "  #     axarr[idx].imshow(act[0][idx])\n"
      ],
      "execution_count": null,
      "outputs": []
    },
    {
      "cell_type": "code",
      "metadata": {
        "colab": {
          "base_uri": "https://localhost:8080/",
          "height": 128
        },
        "id": "hcwwNtlZqdAv",
        "outputId": "e5c36530-3e8f-4632-eaad-bd4a2666585a"
      },
      "source": [
        "new_model=copy.deepcopy(model)\n",
        "import cv2\n",
        "\n",
        "\n",
        "# print('Grayscale image shape:', img_gray.shape)\n",
        "kernels_list=[new_model.block_1[0].weight.detach().clone(),new_model.block_1[3].weight.detach().clone(),new_model.block_2[0].weight.detach().clone(),new_model.block_2[3].weight.detach().clone(),new_model.block_3[0].weight.detach().clone(),new_model.block_3[3].weight.detach().clone()]\n",
        "\n",
        "var=6\n",
        "fig,axis=plt.subplots(1,var,figsize=(10,10))  \n",
        "i=0\n",
        "for kernel in kernels_list:\n",
        "  # kernels = new_model.block_1[3].weight.detach().clone()\n",
        "  # kernels.shape\n",
        "  # kernels=kernels[0]\n",
        "  # kernels = kernels - kernels.min()\n",
        "  # kernels = kernels / kernels.max()\n",
        "\n",
        "  kernels = torch.mean(kernel[0], axis=0)\n",
        "\n",
        "  axis[i].imshow(kernels,cmap=\"gray\")\n",
        "  i+=1"
      ],
      "execution_count": null,
      "outputs": [
        {
          "output_type": "display_data",
          "data": {
            "image/png": "[encoded data removed]",
            "text/plain": [
              "<Figure size 720x720 with 6 Axes>"
            ]
          },
          "metadata": {
            "tags": [],
            "needs_background": "light"
          }
        }
      ]
    },
    {
      "cell_type": "code",
      "metadata": {
        "id": "q3VGnQ77u51E"
      },
      "source": [
        "# Visualise 10 random images from each class\n",
        "array=[[0 for j in range(10)] for i in range(10)]\n",
        "for j in range(10):\n",
        "  count=0\n",
        "  for test_images, test_labels in train_loader:\n",
        "    for k in range(64):\n",
        "      if count>=10:\n",
        "        break  \n",
        "      elif test_labels[k].item()==j:\n",
        "        print(test_labels[k].item())\n",
        "        print(j)\n",
        "        count+=1\n",
        "        array[j][count-1]=test_images[k]\n",
        "    # sample_image = test_images[0]    # Reshape them according to your needs.\n",
        "    # sample_label = test_labels[0]\n",
        "    # print(sample_image)\n",
        "    # print(sample_label)\n",
        "    # break"
      ],
      "execution_count": null,
      "outputs": []
    },
    {
      "cell_type": "code",
      "metadata": {
        "colab": {
          "base_uri": "https://localhost:8080/",
          "height": 266
        },
        "id": "BZ2U-ZA17olC",
        "outputId": "27887a41-058f-47fd-8a8f-7e76822cb948"
      },
      "source": [
        "for i in range(len(array)):\n",
        "  for j in range(len(array[0])):\n",
        "    plt.imshow(array[i][j].permute(1,2,0))\n",
        "    break"
      ],
      "execution_count": null,
      "outputs": [
        {
          "output_type": "display_data",
          "data": {
            "image/png": "[encoded data removed]",
            "text/plain": [
              "<Figure size 432x288 with 1 Axes>"
            ]
          },
          "metadata": {
            "tags": [],
            "needs_background": "light"
          }
        }
      ]
    },
    {
      "cell_type": "code",
      "metadata": {
        "colab": {
          "base_uri": "https://localhost:8080/",
          "height": 283
        },
        "id": "y1LHLPHx8hU4",
        "outputId": "c1d14303-8b7c-4be1-bfd2-86737e02f9e6"
      },
      "source": [
        "plt.imshow(array[0][2].permute(1,2,0))"
      ],
      "execution_count": null,
      "outputs": [
        {
          "output_type": "execute_result",
          "data": {
            "text/plain": [
              "<matplotlib.image.AxesImage at 0x7fd7610defd0>"
            ]
          },
          "metadata": {
            "tags": []
          },
          "execution_count": 176
        },
        {
          "output_type": "display_data",
          "data": {
            "image/png": "[encoded data removed]",
            "text/plain": [
              "<Figure size 432x288 with 1 Axes>"
            ]
          },
          "metadata": {
            "tags": [],
            "needs_background": "light"
          }
        }
      ]
    },
    {
      "cell_type": "code",
      "metadata": {
        "id": "2WdHAq3Z_Uj0",
        "colab": {
          "base_uri": "https://localhost:8080/",
          "height": 229
        },
        "outputId": "fbc821f1-eac6-4817-8826-99725279ec6b"
      },
      "source": [
        "import os\n",
        "os.chdir(\"/content/drive/MyDrive/DeepLearning/A3_1\")\n",
        "\n",
        "for i in range(len(array)):\n",
        "  for j in range(len(array[0])):\n",
        "    # plt.imshow(array[i][j].permute(1,2,0))\n",
        "    torchvision.utils.save_image(array[i][j],\"img_\"+str(i)+\"_\"+str(j)+\".png\")\n"
      ],
      "execution_count": null,
      "outputs": [
        {
          "output_type": "error",
          "ename": "FileNotFoundError",
          "evalue": "ignored",
          "traceback": [
            "\u001b[0;31m---------------------------------------------------------------------------\u001b[0m",
            "\u001b[0;31mFileNotFoundError\u001b[0m                         Traceback (most recent call last)",
            "\u001b[0;32m<ipython-input-45-ba6523d9e2ca>\u001b[0m in \u001b[0;36m<module>\u001b[0;34m()\u001b[0m\n\u001b[1;32m      1\u001b[0m \u001b[0;32mimport\u001b[0m \u001b[0mos\u001b[0m\u001b[0;34m\u001b[0m\u001b[0;34m\u001b[0m\u001b[0m\n\u001b[0;32m----> 2\u001b[0;31m \u001b[0mos\u001b[0m\u001b[0;34m.\u001b[0m\u001b[0mchdir\u001b[0m\u001b[0;34m(\u001b[0m\u001b[0;34m\"/content/drive/MyDrive/DeepLearning/A3_1\"\u001b[0m\u001b[0;34m)\u001b[0m\u001b[0;34m\u001b[0m\u001b[0;34m\u001b[0m\u001b[0m\n\u001b[0m\u001b[1;32m      3\u001b[0m \u001b[0;34m\u001b[0m\u001b[0m\n\u001b[1;32m      4\u001b[0m \u001b[0;32mfor\u001b[0m \u001b[0mi\u001b[0m \u001b[0;32min\u001b[0m \u001b[0mrange\u001b[0m\u001b[0;34m(\u001b[0m\u001b[0mlen\u001b[0m\u001b[0;34m(\u001b[0m\u001b[0marray\u001b[0m\u001b[0;34m)\u001b[0m\u001b[0;34m)\u001b[0m\u001b[0;34m:\u001b[0m\u001b[0;34m\u001b[0m\u001b[0;34m\u001b[0m\u001b[0m\n\u001b[1;32m      5\u001b[0m   \u001b[0;32mfor\u001b[0m \u001b[0mj\u001b[0m \u001b[0;32min\u001b[0m \u001b[0mrange\u001b[0m\u001b[0;34m(\u001b[0m\u001b[0mlen\u001b[0m\u001b[0;34m(\u001b[0m\u001b[0marray\u001b[0m\u001b[0;34m[\u001b[0m\u001b[0;36m0\u001b[0m\u001b[0;34m]\u001b[0m\u001b[0;34m)\u001b[0m\u001b[0;34m)\u001b[0m\u001b[0;34m:\u001b[0m\u001b[0;34m\u001b[0m\u001b[0;34m\u001b[0m\u001b[0m\n",
            "\u001b[0;31mFileNotFoundError\u001b[0m: [Errno 2] No such file or directory: '/content/drive/MyDrive/DeepLearning/A3_1'"
          ]
        }
      ]
    },
    {
      "cell_type": "code",
      "metadata": {
        "id": "BfyqgLiZz11Z"
      },
      "source": [
        "class CNN_Model_1(nn.Module):\n",
        "\n",
        "    def __init__(self, n_classes):\n",
        "        super(CNN_Model_1, self).__init__()\n",
        "        \n",
        "        self.block_1 = nn.Sequential(            \n",
        "            nn.Conv2d(in_channels=3, out_channels=16, kernel_size=3, stride=1),\n",
        "            nn.ReLU(),\n",
        "            nn.BatchNorm2d(16),\n",
        "            nn.MaxPool2d(kernel_size = 2),\n",
        "            # nn.Conv2d(in_channels=16, out_channels=16, kernel_size=3, stride=1),\n",
        "            # nn.ReLU(),\n",
        "            # nn.BatchNorm2d(16),\n",
        "            # nn.MaxPool2d(kernel_size=1),\n",
        "            # nn.Conv2d(in_channels=16, out_channels=16, kernel_size=3, stride=1),\n",
        "            # nn.ReLU(),\n",
        "            # nn.BatchNorm2d(16),\n",
        "            # nn.MaxPool2d(kernel_size=1),\n",
        "            # # nn.Conv2d(in_channels=16, out_channels=16, kernel_size=3, stride=1),\n",
        "            # nn.ReLU(),\n",
        "            # nn.BatchNorm2d(16),\n",
        "            # nn.MaxPool2d(kernel_size=1)\n",
        "            # ,\n",
        "            # # nn.Conv2d(in_channels=16, out_channels=120, kernel_size=5, stride=1),\n",
        "            # nn.ReLU()\n",
        "        )\n",
        "\n",
        "        self.classifier = nn.Sequential(\n",
        "            nn.Linear(in_features=15*15*16, out_features=120),\n",
        "            nn.ReLU(),\n",
        "            nn.Dropout(0.5),\n",
        "            nn.Linear(in_features=120, out_features=32),\n",
        "            nn.ReLU(),\n",
        "            nn.Dropout(0.5),\n",
        "            nn.Linear(in_features=32, out_features=n_classes),\n",
        "        )\n",
        "\n",
        "\n",
        "    def forward(self, x):\n",
        "        x=x.view(-1,3,32,32)\n",
        "        x = self.block_1(x)\n",
        "        # print(x.shape)\n",
        "        x = torch.flatten(x, 1)\n",
        "        # print(x.shape)\n",
        "        logits = self.classifier(x)\n",
        "        prob=nn.Softmax(dim=1)(logits)\n",
        "        pred=nn.LogSoftmax(dim=1)(logits)\n",
        "        return pred, prob"
      ],
      "execution_count": null,
      "outputs": []
    },
    {
      "cell_type": "code",
      "metadata": {
        "id": "PXN3QOpsz-9N"
      },
      "source": [
        "class CNN_Model_2(nn.Module):\n",
        "\n",
        "    def __init__(self, n_classes):\n",
        "        super(CNN_Model_2, self).__init__()\n",
        "        \n",
        "        self.block_1 = nn.Sequential(            \n",
        "            nn.Conv2d(in_channels=3, out_channels=16, kernel_size=3, stride=1),\n",
        "            nn.ReLU(),\n",
        "            nn.BatchNorm2d(16),\n",
        "            # nn.MaxPool2d(kernel_size=2),\n",
        "            # nn.Dropout(0.4),\n",
        "\n",
        "            nn.Conv2d(in_channels=16, out_channels=16, kernel_size=3, stride=1),\n",
        "            nn.ReLU(),\n",
        "            nn.BatchNorm2d(16),\n",
        "            nn.MaxPool2d(kernel_size=2),\n",
        "            # nn.Dropout(0.5)\n",
        "        )\n",
        "\n",
        "        self.block_2 = nn.Sequential(\n",
        "            nn.Conv2d(in_channels=16, out_channels=32, kernel_size=3, stride=1),\n",
        "            nn.ReLU(),\n",
        "            nn.BatchNorm2d(32),\n",
        "            # nn.MaxPool2d(kernel_size=2),\n",
        "            # nn.Dropout(0.4),\n",
        "\n",
        "            nn.Conv2d(in_channels=32, out_channels=32, kernel_size=3, stride=1),\n",
        "            nn.ReLU(),\n",
        "            nn.BatchNorm2d(32),\n",
        "            nn.MaxPool2d(kernel_size=2),\n",
        "            # nn.Dropout(0.4)\n",
        "        )\n",
        "\n",
        "        self.classifier = nn.Sequential(\n",
        "            nn.Linear(in_features=5*5*32, out_features=120),\n",
        "            nn.ReLU(),\n",
        "            # nn.Dropout(0.4),\n",
        "            nn.Linear(in_features=120, out_features=n_classes),\n",
        "        )\n",
        "\n",
        "\n",
        "    def forward(self, x):\n",
        "        #print(x.shape)\n",
        "        x=x.view(-1,3,32,32)\n",
        "        x = self.block_1(x)\n",
        "        #print(x.shape)\n",
        "        \n",
        "        x = self.block_2(x)\n",
        "        x = torch.flatten(x, 1)\n",
        "        logits = self.classifier(x)\n",
        "        prob=nn.Softmax(dim=1)(logits)\n",
        "        pred=nn.LogSoftmax(dim=1)(logits)\n",
        "        return pred, prob"
      ],
      "execution_count": null,
      "outputs": []
    },
    {
      "cell_type": "code",
      "metadata": {
        "id": "z3fELOZfz_OM"
      },
      "source": [
        "#Block1+2+3 + FC and softmax\n",
        "class CNN_Model_3(nn.Module):\n",
        "\n",
        "    def __init__(self, n_classes):\n",
        "        super(CNN_Model_3, self).__init__()\n",
        "        \n",
        "        self.block_1 = nn.Sequential(            \n",
        "            nn.Conv2d(in_channels=3, out_channels=16, kernel_size=3, stride=1),\n",
        "            # nn.BatchNorm2d(16),\n",
        "            nn.ReLU(),\n",
        "            # nn.MaxPool2d(kernel_size=1),\n",
        "            nn.Conv2d(in_channels=16, out_channels=16, kernel_size=3, stride=1),\n",
        "            nn.BatchNorm2d(16),\n",
        "            nn.ReLU(),\n",
        "            nn.MaxPool2d(kernel_size=2),\n",
        "            nn.Dropout(0.5),\n",
        "        )\n",
        "\n",
        "        self.block_2=nn.Sequential(\n",
        "\n",
        "            nn.Conv2d(in_channels=16, out_channels=32, kernel_size=3, stride=1),\n",
        "            nn.BatchNorm2d(32),\n",
        "            nn.ReLU(),\n",
        "            # nn.MaxPool2d(kernel_size=2),\n",
        "            # nn.Dropout(0.5),\n",
        "\n",
        "            nn.Conv2d(in_channels=32, out_channels=32, kernel_size=3, stride=1),\n",
        "            \n",
        "            #nn.BatchNorm2d(32),\n",
        "            # nn.ReLU(),\n",
        "            nn.MaxPool2d(kernel_size=2),\n",
        "            nn.Dropout(0.5),\n",
        "        )\n",
        "\n",
        "        self.block_3=nn.Sequential(\n",
        "\n",
        "            nn.Conv2d(in_channels=32, out_channels=64, kernel_size=3, stride=1),\n",
        "            nn.BatchNorm2d(64),\n",
        "            # nn.ReLU(),\n",
        "            # nn.MaxPool2d(kernel_size=2),\n",
        "            #nn.Dropout(0.4),\n",
        "\n",
        "            nn.Conv2d(in_channels=64, out_channels=64, kernel_size=3, stride=1),\n",
        "            # nn.BatchNorm2d(64),\n",
        "            # nn.ReLU(),\n",
        "            # nn.MaxPool2d(kernel_size=2),\n",
        "            nn.Dropout(0.5)\n",
        "\n",
        "            # nn.Conv2d(in_channels=64, out_channels=64, kernel_size=3, stride=1),\n",
        "            # nn.BatchNorm2d(64),\n",
        "            # nn.ReLU(),\n",
        "            # nn.MaxPool2d(kernel_size=2),\n",
        "            # nn.Dropout(0.8)\n",
        "        )\n",
        "\n",
        "        self.classifier = nn.Sequential(\n",
        "            nn.Linear(in_features=1*1*64, out_features=20),\n",
        "            # nn.ReLU(),\n",
        "            # nn.Dropout(0.3),\n",
        "            nn.Linear(in_features=20, out_features=n_classes),\n",
        "        )\n",
        "\n",
        "\n",
        "    def forward(self, x):\n",
        "        #print(x.shape)\n",
        "        x=x.view(-1,3,32,32)\n",
        "        x = self.block_1(x)\n",
        "        x = self.block_2(x)\n",
        "        x = self.block_3(x)\n",
        "        #print(x.shape)\n",
        "        x = torch.flatten(x, 1)\n",
        "        logits = self.classifier(x)\n",
        "        prob=nn.Softmax(dim=1)(logits)\n",
        "        pred=nn.LogSoftmax(dim=1)(logits)\n",
        "        return pred, prob"
      ],
      "execution_count": null,
      "outputs": []
    },
    {
      "cell_type": "code",
      "metadata": {
        "colab": {
          "base_uri": "https://localhost:8080/"
        },
        "id": "u9wxme6dqZK3",
        "outputId": "66a007bd-faa1-4c2f-fdb0-476b03c5e73a"
      },
      "source": [
        "model"
      ],
      "execution_count": null,
      "outputs": [
        {
          "output_type": "execute_result",
          "data": {
            "text/plain": [
              "CNN_Model_3(\n",
              "  (block_1): Sequential(\n",
              "    (0): Conv2d(3, 16, kernel_size=(3, 3), stride=(1, 1))\n",
              "    (1): ReLU()\n",
              "    (2): Conv2d(16, 16, kernel_size=(3, 3), stride=(1, 1))\n",
              "    (3): BatchNorm2d(16, eps=1e-05, momentum=0.1, affine=True, track_running_stats=True)\n",
              "    (4): ReLU()\n",
              "    (5): MaxPool2d(kernel_size=2, stride=2, padding=0, dilation=1, ceil_mode=False)\n",
              "  )\n",
              "  (block_2): Sequential(\n",
              "    (0): Conv2d(16, 32, kernel_size=(3, 3), stride=(1, 1))\n",
              "    (1): BatchNorm2d(32, eps=1e-05, momentum=0.1, affine=True, track_running_stats=True)\n",
              "    (2): ReLU()\n",
              "    (3): Conv2d(32, 32, kernel_size=(3, 3), stride=(1, 1))\n",
              "    (4): ReLU()\n",
              "    (5): MaxPool2d(kernel_size=2, stride=2, padding=0, dilation=1, ceil_mode=False)\n",
              "  )\n",
              "  (block_3): Sequential(\n",
              "    (0): Conv2d(32, 64, kernel_size=(3, 3), stride=(1, 1))\n",
              "    (1): BatchNorm2d(64, eps=1e-05, momentum=0.1, affine=True, track_running_stats=True)\n",
              "    (2): ReLU()\n",
              "    (3): Conv2d(64, 64, kernel_size=(3, 3), stride=(1, 1))\n",
              "    (4): ReLU()\n",
              "  )\n",
              "  (classifier): Sequential(\n",
              "    (0): Linear(in_features=64, out_features=20, bias=True)\n",
              "    (1): ReLU()\n",
              "    (2): Linear(in_features=20, out_features=10, bias=True)\n",
              "  )\n",
              ")"
            ]
          },
          "metadata": {
            "tags": []
          },
          "execution_count": 107
        }
      ]
    },
    {
      "cell_type": "code",
      "metadata": {
        "id": "uaxHMADd8L3N"
      },
      "source": [
        "def get_accuracy(model, data_loader, device):\n",
        "    '''\n",
        "    Function for computing the accuracy of the predictions over the entire data_loader\n",
        "    '''\n",
        "    \n",
        "    correct_pred = 0 \n",
        "    n = 0\n",
        "    \n",
        "    with torch.no_grad():\n",
        "        model.eval()\n",
        "        for X, y_true in data_loader:\n",
        "\n",
        "            X = X.to(device)\n",
        "            y_true = y_true.to(device)\n",
        "\n",
        "            _, y_prob = model(X)\n",
        "            _, predicted_labels = torch.max(y_prob, 1)\n",
        "\n",
        "            n += y_true.size(0)\n",
        "            correct_pred += (predicted_labels == y_true).sum()\n",
        "\n",
        "    return correct_pred.float() / n\n",
        "\n",
        "def plot_losses(train_losses, valid_losses):\n",
        "    '''\n",
        "    Function for plotting training and validation losses\n",
        "    '''\n",
        "    \n",
        "    # temporarily change the style of the plots to seaborn \n",
        "    plt.style.use('seaborn')\n",
        "\n",
        "    train_losses = np.array(train_losses) \n",
        "    valid_losses = np.array(valid_losses)\n",
        "\n",
        "    fig, ax = plt.subplots(figsize = (8, 4.5))\n",
        "\n",
        "    ax.plot(train_losses, color='blue', label='Training loss') \n",
        "    ax.plot(valid_losses, color='red', label='Validation loss')\n",
        "    ax.set(title=\"Loss over epochs\", \n",
        "            xlabel='Epoch',\n",
        "            ylabel='Loss') \n",
        "    ax.legend()\n",
        "    fig.show()\n",
        "    \n",
        "    # change the plot style to default\n",
        "    plt.style.use('default')"
      ],
      "execution_count": null,
      "outputs": []
    },
    {
      "cell_type": "code",
      "metadata": {
        "id": "GsZjQJYW8N_n"
      },
      "source": [
        "# torch.manual_seed(RANDOM_SEED)\n",
        "# model = CNN_Model(X = 1, Y = 0, Z = 0, n_fc_layers = 1, input_features = [3600], output_features = [N_CLASSES]).to(DEVICE)\n",
        "model = CNN_Model_3(10).to(DEVICE)\n",
        "optimizer = torch.optim.Adam(model.parameters(), lr=1e-4)#,weight_decay=1e-5)\n",
        "criterion = nn.NLLLoss().to(DEVICE)"
      ],
      "execution_count": null,
      "outputs": []
    },
    {
      "cell_type": "markdown",
      "metadata": {
        "id": "LuiYSNLkdNxr"
      },
      "source": [
        ""
      ]
    },
    {
      "cell_type": "code",
      "metadata": {
        "id": "D8ZC4JME8S19"
      },
      "source": [
        "model, optimizer, _ = training_loop(model, criterion, optimizer, train_loader, valid_loader,135, DEVICE)"
      ],
      "execution_count": null,
      "outputs": []
    },
    {
      "cell_type": "code",
      "metadata": {
        "id": "s5l5OxWcYiN-"
      },
      "source": [
        "loaded_model, optimizer, _ = training_loop(loaded_model, criterion, optimizer, train_loader, test_loader,135, DEVICE)"
      ],
      "execution_count": null,
      "outputs": []
    },
    {
      "cell_type": "code",
      "metadata": {
        "colab": {
          "base_uri": "https://localhost:8080/"
        },
        "id": "tbJMPyIPZKYp",
        "outputId": "0c744b00-03d1-4b20-9369-ab66b64ecc2e"
      },
      "source": [
        "get_accuracy(loaded_model, test_loader, DEVICE)"
      ],
      "execution_count": null,
      "outputs": [
        {
          "output_type": "execute_result",
          "data": {
            "text/plain": [
              "tensor(0.7430, device='cuda:0')"
            ]
          },
          "metadata": {
            "tags": []
          },
          "execution_count": 43
        }
      ]
    },
    {
      "cell_type": "code",
      "metadata": {
        "id": "AWDYkCIJrk4S"
      },
      "source": [
        "Epoch: 49\tTrain loss: 0.8330\tValid loss: 0.9121\tTrain accuracy: 79.65\tValid accuracy: 70.13\n",
        "Train loss: 0.9573\tValid loss: 0.9451\tTrain accuracy: 76.59\tValid accuracy: 69.73\n",
        "\n",
        "16:52:34 --- Epoch: 134\tTrain loss: 0.6878\tValid loss: 0.8254\tTrain accuracy: 86.87\tValid accuracy: 74.13"
      ],
      "execution_count": null,
      "outputs": []
    },
    {
      "cell_type": "code",
      "metadata": {
        "id": "mN_hJh03Qju8"
      },
      "source": [
        "get_accuracy()"
      ],
      "execution_count": null,
      "outputs": []
    },
    {
      "cell_type": "code",
      "metadata": {
        "id": "x80Fg7thpqRn"
      },
      "source": [
        "filename = 'best_model_dropout0.3.sav'\n",
        "# pickle.dump(model, open(filename, 'wb'))\n",
        " \n",
        "# some time later...\n",
        " \n",
        "# load the model from disk\n",
        "loaded_model = pickle.load(open(filename, 'rb'))\n",
        "# result = loaded_model.score(X_test, Y_test)"
      ],
      "execution_count": null,
      "outputs": []
    },
    {
      "cell_type": "code",
      "metadata": {
        "id": "BiUUBQCUZ590"
      },
      "source": [
        "filename = 'new_best_model_dropout0.3.sav'\n",
        "pickle.dump(loaded_model, open(filename, 'wb'))"
      ],
      "execution_count": null,
      "outputs": []
    },
    {
      "cell_type": "code",
      "metadata": {
        "colab": {
          "base_uri": "https://localhost:8080/"
        },
        "id": "I34LJSOdzOUo",
        "outputId": "1a364bbe-252b-48e3-b1a1-aae3ac5579ac"
      },
      "source": [
        "loaded_model"
      ],
      "execution_count": null,
      "outputs": [
        {
          "output_type": "execute_result",
          "data": {
            "text/plain": [
              "CNN_Model_3(\n",
              "  (block_1): Sequential(\n",
              "    (0): Conv2d(3, 16, kernel_size=(3, 3), stride=(1, 1))\n",
              "    (1): ReLU()\n",
              "    (2): Conv2d(16, 16, kernel_size=(3, 3), stride=(1, 1))\n",
              "    (3): BatchNorm2d(16, eps=1e-05, momentum=0.1, affine=True, track_running_stats=True)\n",
              "    (4): ReLU()\n",
              "    (5): MaxPool2d(kernel_size=2, stride=2, padding=0, dilation=1, ceil_mode=False)\n",
              "  )\n",
              "  (block_2): Sequential(\n",
              "    (0): Conv2d(16, 32, kernel_size=(3, 3), stride=(1, 1))\n",
              "    (1): BatchNorm2d(32, eps=1e-05, momentum=0.1, affine=True, track_running_stats=True)\n",
              "    (2): ReLU()\n",
              "    (3): Conv2d(32, 32, kernel_size=(3, 3), stride=(1, 1))\n",
              "    (4): ReLU()\n",
              "    (5): MaxPool2d(kernel_size=2, stride=2, padding=0, dilation=1, ceil_mode=False)\n",
              "  )\n",
              "  (block_3): Sequential(\n",
              "    (0): Conv2d(32, 64, kernel_size=(3, 3), stride=(1, 1))\n",
              "    (1): BatchNorm2d(64, eps=1e-05, momentum=0.1, affine=True, track_running_stats=True)\n",
              "    (2): ReLU()\n",
              "    (3): Conv2d(64, 64, kernel_size=(3, 3), stride=(1, 1))\n",
              "    (4): ReLU()\n",
              "  )\n",
              "  (classifier): Sequential(\n",
              "    (0): Linear(in_features=64, out_features=20, bias=True)\n",
              "    (1): ReLU()\n",
              "    (2): Dropout(p=0.2, inplace=False)\n",
              "    (3): Linear(in_features=20, out_features=10, bias=True)\n",
              "  )\n",
              ")"
            ]
          },
          "metadata": {
            "tags": []
          },
          "execution_count": 145
        }
      ]
    },
    {
      "cell_type": "code",
      "metadata": {
        "id": "42gQEafC8Uq6"
      },
      "source": [
        "ROW_IMG = 10\n",
        "N_ROWS = 5\n",
        "\n",
        "fig = plt.figure()\n",
        "for index in range(1, ROW_IMG * N_ROWS + 1):\n",
        "    plt.subplot(N_ROWS, ROW_IMG, index)\n",
        "    plt.axis('off')\n",
        "    plt.imshow(valid_dataset.data[index], cmap='gray_r')\n",
        "    \n",
        "    with torch.no_grad():\n",
        "        model.eval()\n",
        "        _, probs = model(valid_dataset[index][0].unsqueeze(0).to(DEVICE))\n",
        "        \n",
        "    title = f'{torch.argmax(probs)} ({torch.max(probs * 100):.0f}%)'\n",
        "    \n",
        "    plt.title(title, fontsize=7)\n",
        "fig.suptitle('LeNet-5 - predictions');"
      ],
      "execution_count": null,
      "outputs": []
    },
    {
      "cell_type": "code",
      "metadata": {
        "id": "hWNwlbzSuDC9"
      },
      "source": [
        "#Block1+2+3 + FC and softmax\n",
        "class CNN_Model_3(nn.Module):\n",
        "\n",
        "    def __init__(self, n_classes):\n",
        "        super(CNN_Model_3, self).__init__()\n",
        "        \n",
        "        self.block_1 = nn.Sequential(            \n",
        "            nn.Conv2d(in_channels=3, out_channels=16, kernel_size=3, stride=1),\n",
        "            # nn.BatchNorm2d(16),\n",
        "            nn.ReLU(),\n",
        "            # nn.MaxPool2d(kernel_size=1),\n",
        "            nn.Conv2d(in_channels=16, out_channels=16, kernel_size=3, stride=1),\n",
        "            nn.BatchNorm2d(16),\n",
        "            nn.ReLU(),\n",
        "            nn.MaxPool2d(kernel_size=2),\n",
        "            nn.Dropout(0.3),\n",
        "        )\n",
        "\n",
        "        self.block_2=nn.Sequential(\n",
        "\n",
        "            nn.Conv2d(in_channels=16, out_channels=32, kernel_size=3, stride=1),\n",
        "            nn.BatchNorm2d(32),\n",
        "            nn.ReLU(),\n",
        "            # nn.MaxPool2d(kernel_size=2),\n",
        "            # nn.Dropout(0.5),\n",
        "\n",
        "            nn.Conv2d(in_channels=32, out_channels=32, kernel_size=3, stride=1),\n",
        "            \n",
        "            #nn.BatchNorm2d(32),\n",
        "            nn.ReLU(),\n",
        "            nn.MaxPool2d(kernel_size=2),\n",
        "            nn.Dropout(0.3),\n",
        "        )\n",
        "\n",
        "        self.block_3=nn.Sequential(\n",
        "\n",
        "            nn.Conv2d(in_channels=32, out_channels=64, kernel_size=3, stride=1),\n",
        "            nn.BatchNorm2d(64),\n",
        "            nn.ReLU(),\n",
        "            # nn.MaxPool2d(kernel_size=2),\n",
        "            #nn.Dropout(0.4),\n",
        "\n",
        "            nn.Conv2d(in_channels=64, out_channels=64, kernel_size=3, stride=1),\n",
        "            # nn.BatchNorm2d(64),\n",
        "            nn.ReLU(),\n",
        "            # nn.MaxPool2d(kernel_size=2),\n",
        "            nn.Dropout(0.3)\n",
        "\n",
        "            # nn.Conv2d(in_channels=64, out_channels=64, kernel_size=3, stride=1),\n",
        "            # nn.BatchNorm2d(64),\n",
        "            # nn.ReLU(),\n",
        "            # nn.MaxPool2d(kernel_size=2),\n",
        "            # nn.Dropout(0.8)\n",
        "        )\n",
        "\n",
        "        self.classifier = nn.Sequential(\n",
        "            nn.Linear(in_features=1*1*64, out_features=20),\n",
        "            nn.ReLU(),\n",
        "            nn.Dropout(0.3),\n",
        "            nn.Linear(in_features=20, out_features=n_classes),\n",
        "        )\n",
        "\n",
        "\n",
        "    def forward(self, x):\n",
        "        #print(x.shape)\n",
        "        x=x.view(-1,3,32,32)\n",
        "        x = self.block_1(x)\n",
        "        x = self.block_2(x)\n",
        "        x = self.block_3(x)\n",
        "        #print(x.shape)\n",
        "        x = torch.flatten(x, 1)\n",
        "        logits = self.classifier(x)\n",
        "        prob=nn.Softmax(dim=1)(logits)\n",
        "        pred=nn.LogSoftmax(dim=1)(logits)\n",
        "        return pred, prob"
      ],
      "execution_count": null,
      "outputs": []
    }
  ]
}